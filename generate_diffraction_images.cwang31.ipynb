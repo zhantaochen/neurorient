{
 "cells": [
  {
   "cell_type": "code",
   "execution_count": 1,
   "metadata": {},
   "outputs": [
    {
     "name": "stderr",
     "output_type": "stream",
     "text": [
      "/global/u2/c/cwang31/data_root/conda/envs/neurorient/lib/python3.9/site-packages/skopi/diffraction.py:76: NumbaDeprecationWarning: The 'nopython' keyword argument was not supplied to the 'numba.jit' decorator. The implicit default value for this argument is currently False, but it will be changed to True in Numba 0.59.0. See https://numba.readthedocs.io/en/stable/reference/deprecation.html#deprecation-of-object-mode-fall-back-behaviour-when-using-jit for details.\n",
      "  def get_phase(atom_pos, q_xyz):\n",
      "/global/u2/c/cwang31/data_root/conda/envs/neurorient/lib/python3.9/site-packages/skopi/diffraction.py:90: NumbaDeprecationWarning: The 'nopython' keyword argument was not supplied to the 'numba.jit' decorator. The implicit default value for this argument is currently False, but it will be changed to True in Numba 0.59.0. See https://numba.readthedocs.io/en/stable/reference/deprecation.html#deprecation-of-object-mode-fall-back-behaviour-when-using-jit for details.\n",
      "  def cal(f_hkl, atom_pos, q_xyz, xyz_ind, pixel_number):\n",
      "/global/u2/c/cwang31/data_root/conda/envs/neurorient/lib/python3.9/site-packages/skopi/geometry/convert.py:146: NumbaDeprecationWarning: The 'nopython' keyword argument was not supplied to the 'numba.jit' decorator. The implicit default value for this argument is currently False, but it will be changed to True in Numba 0.59.0. See https://numba.readthedocs.io/en/stable/reference/deprecation.html#deprecation-of-object-mode-fall-back-behaviour-when-using-jit for details.\n",
      "  def euler_to_quaternion(psi, theta, phi):\n",
      "/global/u2/c/cwang31/data_root/conda/envs/neurorient/lib/python3.9/site-packages/skopi/geometry/convert.py:201: NumbaDeprecationWarning: The 'nopython' keyword argument was not supplied to the 'numba.jit' decorator. The implicit default value for this argument is currently False, but it will be changed to True in Numba 0.59.0. See https://numba.readthedocs.io/en/stable/reference/deprecation.html#deprecation-of-object-mode-fall-back-behaviour-when-using-jit for details.\n",
      "  def rotmat_to_quaternion(rotmat):\n",
      "/global/u2/c/cwang31/data_root/conda/envs/neurorient/lib/python3.9/site-packages/skopi/geometry/convert.py:252: NumbaDeprecationWarning: The 'nopython' keyword argument was not supplied to the 'numba.jit' decorator. The implicit default value for this argument is currently False, but it will be changed to True in Numba 0.59.0. See https://numba.readthedocs.io/en/stable/reference/deprecation.html#deprecation-of-object-mode-fall-back-behaviour-when-using-jit for details.\n",
      "  def quaternion2rot3d(quat):\n",
      "/global/u2/c/cwang31/data_root/conda/envs/neurorient/lib/python3.9/site-packages/skopi/crosstalk.py:56: NumbaDeprecationWarning: The 'nopython' keyword argument was not supplied to the 'numba.jit' decorator. The implicit default value for this argument is currently False, but it will be changed to True in Numba 0.59.0. See https://numba.readthedocs.io/en/stable/reference/deprecation.html#deprecation-of-object-mode-fall-back-behaviour-when-using-jit for details.\n",
      "  def cross_talk_effect(dbase, photons, shape, dbsize, boundary):\n"
     ]
    },
    {
     "data": {
      "text/plain": [
       "'1'"
      ]
     },
     "execution_count": 1,
     "metadata": {},
     "output_type": "execute_result"
    }
   ],
   "source": [
    "# %load_ext autoreload\n",
    "# %autoreload 2\n",
    "\n",
    "import matplotlib.pyplot as plt\n",
    "import numpy as np\n",
    "import skopi as sk\n",
    "\n",
    "import torch\n",
    "from tqdm import tqdm \n",
    "import time\n",
    "import h5py\n",
    "\n",
    "from neurorient import uniform_points_on_sphere\n",
    "from neurorient.reconstruction.slicing import get_real_mesh\n",
    "\n",
    "import os\n",
    "os.environ[\"USE_CUPY\"] = \"1\"\n",
    "os.environ.get('USE_CUPY')"
   ]
  },
  {
   "cell_type": "code",
   "execution_count": 2,
   "metadata": {},
   "outputs": [],
   "source": [
    "save_dir = 'data'"
   ]
  },
  {
   "cell_type": "code",
   "execution_count": 3,
   "metadata": {},
   "outputs": [],
   "source": [
    "n_pixels, det_size, det_dist = (128, 0.1, 0.2)\n",
    "det = sk.SimpleSquareDetector(n_pixels, det_size, det_dist)"
   ]
  },
  {
   "cell_type": "code",
   "execution_count": 4,
   "metadata": {},
   "outputs": [],
   "source": [
<<<<<<< HEAD

    "pdb = '1BXR'"
=======
    "pdb = '7OK2'"
>>>>>>> af180bf (Bookkeep progress.)
   ]
  },
  {
   "cell_type": "code",
   "execution_count": 5,
   "metadata": {},
   "outputs": [
    {
     "name": "stderr",
     "output_type": "stream",
     "text": [
      "/global/u2/c/cwang31/data_root/conda/envs/neurorient/lib/python3.9/site-packages/numba/cuda/cudadrv/devicearray.py:886: NumbaPerformanceWarning: Host array used in CUDA kernel will incur copy overhead to/from device.\n",
      "  warn(NumbaPerformanceWarning(msg))\n"
     ]
    }
   ],
   "source": [
    "# Set up x-ray beam\n",
    "beam = sk.Beam(\"input/beam/amo86615.beam\")\n",
    "beam.set_photons_per_pulse(increase_factor * beam.get_photons_per_pulse())\n",
    "\n",
    "# Set up particle\n",
    "# pdb file of lidless mmCpn in open state\n",
    "particle = sk.Particle()\n",
    "particle.read_pdb(f\"input/pdb/{pdb}.pdb\", ff='WK')\n",
    "\n",
    "# Set up SPI experiment\n",
    "exp = sk.SPIExperiment(det, beam, particle)"
   ]
  },
  {
   "cell_type": "code",
   "execution_count": 6,
   "metadata": {},
   "outputs": [
    {
     "name": "stderr",
     "output_type": "stream",
     "text": [
<<<<<<< HEAD

      "100%|██████████| 10000/10000 [01:51<00:00, 89.75it/s]\n"
=======
      "100%|██████████| 10000/10000 [01:34<00:00, 106.02it/s]\n"
>>>>>>> af180bf (Bookkeep progress.)
     ]
    }
   ],
   "source": [
    "# generate random orientations\n",
    "orientations = sk.get_random_quat(num_images)\n",
    "# setup experiment with generated orientations\n",
    "exp.set_orientations(orientations)\n",
    "# preallocate memory for images\n",
    "images = np.zeros((len(orientations), ) + det.shape[1:])\n",
    "# calculate and fill in images\n",
    "for i in tqdm(range(len(orientations))):\n",
    "    if poisson:\n",
    "        images[i] = exp.generate_image_stack(return_photons=True, return_intensities=False)[0]\n",
    "    else:\n",
    "        images[i] = exp.generate_image_stack(return_photons=False, return_intensities=True)[0]"
   ]
  },
  {
   "cell_type": "code",
<<<<<<< HEAD

   "execution_count": 9,
=======
   "execution_count": 8,
>>>>>>> af180bf (Bookkeep progress.)
   "metadata": {},
   "outputs": [],
   "source": [
    "img_real_mesh = get_real_mesh(det.shape[1], det.pixel_position_reciprocal.max())\n",
    "_mesh, _len = exp.det.get_reciprocal_mesh(voxel_number_1d=exp.mesh_size)\n",
    "vol_real_mesh = get_real_mesh(_mesh.shape[0], _mesh.max())"
   ]
  },
  {
   "cell_type": "code",
   "execution_count": 9,
   "metadata": {},
   "outputs": [
    {
     "name": "stdout",
     "output_type": "stream",
     "text": [
      "data wrote to: \n",
      " /pscratch/sd/z/zhantao/neurorient_repo/data/6E5B_increase10_poissonTrue_num10K.pt\n"
     ]
    }
   ],
   "source": [
    "pt_fpath = os.path.join(save_dir, f'{pdb}_increase{increase_factor:d}_poisson{poisson}_num{num_images//1000:d}K.pt')\n",
    "torch.save(\n",
    "    {\n",
    "        'orientations': torch.from_numpy(orientations).float(),\n",
    "        'intensities': torch.from_numpy(images).float(),\n",
    "        'pixel_position_reciprocal': torch.from_numpy(det.pixel_position_reciprocal).float(),\n",
    "        'pixel_index_map': torch.from_numpy(det.pixel_index_map).long(),\n",
    "        'volume': torch.from_numpy(exp.volumes[0]).to(torch.complex64),\n",
    "        'img_real_mesh': img_real_mesh.float(),\n",
    "        'vol_real_mesh': vol_real_mesh.float(),\n",
    "        'time_stamp': time.strftime(\"%Y%m%d-%H%M\")\n",
    "    }, pt_fpath\n",
    ")\n",
    "print(\"data wrote to: \\n\", pt_fpath)"
   ]
  },
  {
   "cell_type": "code",
   "execution_count": 10,
   "metadata": {},
   "outputs": [
    {
     "name": "stdout",
     "output_type": "stream",
     "text": [
      "data wrote to: \n",
      " data/7OK2_increase10_poissonTrue_num10K.h5\n"
     ]
    }
   ],
   "source": [
    "h5_fpath = os.path.join(\n",
    "    save_dir, \n",
    "    f'{pdb}_increase{increase_factor:d}_poisson{poisson}_num{num_images//1000}K.h5')\n",
    "\n",
    "with h5py.File(h5_fpath, 'w') as f:\n",
    "    f.create_dataset('intensities', data=images[:, None])\n",
    "    f.create_dataset('orientations', data=orientations)\n",
    "    f.create_dataset('pixel_position_reciprocal', data=det.pixel_position_reciprocal)\n",
    "    f.create_dataset('pixel_distance_reciprocal', data=det.pixel_distance_reciprocal)\n",
    "    f.create_dataset('pixel_index_map', data=det.pixel_index_map)\n",
    "print(\"data wrote to: \\n\", h5_fpath)"
   ]
  },
  {
   "cell_type": "code",
   "execution_count": null,
   "metadata": {},
   "outputs": [],
   "source": []
  }
 ],
 "metadata": {
  "kernelspec": {
   "display_name": "neurorient",
   "language": "python",
   "name": "neurorient"
  },
  "language_info": {
   "codemirror_mode": {
    "name": "ipython",
    "version": 3
   },
   "file_extension": ".py",
   "mimetype": "text/x-python",
   "name": "python",
   "nbconvert_exporter": "python",
   "pygments_lexer": "ipython3",
   "version": "3.9.17"
  },
  "orig_nbformat": 4
 },
 "nbformat": 4,
 "nbformat_minor": 2
}
