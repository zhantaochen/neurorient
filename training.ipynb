{
 "cells": [
  {
   "cell_type": "code",
   "execution_count": 1,
   "metadata": {},
   "outputs": [],
   "source": [
    "%load_ext autoreload\n",
    "%autoreload 2\n",
    "\n",
    "import torch\n",
    "import matplotlib.pyplot as plt\n",
    "from neurorient import NeurOrient"
   ]
  },
  {
   "cell_type": "code",
   "execution_count": 2,
   "metadata": {},
   "outputs": [],
   "source": [
    "from mpi4py import MPI"
   ]
  },
  {
   "cell_type": "code",
   "execution_count": 3,
   "metadata": {},
   "outputs": [
    {
     "name": "stdout",
     "output_type": "stream",
     "text": [
      "dict_keys(['orientations', 'images', 'pixel_position_reciprocal', 'volume', 'img_real_mesh', 'vol_real_mesh', 'time_stamp'])\n"
     ]
    }
   ],
   "source": [
    "spi_data = torch.load('/pscratch/sd/z/zhantao/neurorient_repo/data/1bxr_randquat.pt')\n",
    "model_dir = '/pscratch/sd/z/zhantao/neurorient_repo/model'\n",
    "print(spi_data.keys())"
   ]
  },
  {
   "cell_type": "code",
   "execution_count": 4,
   "metadata": {},
   "outputs": [],
   "source": [
    "# model = NeurOrient.load_from_checkpoint('/pscratch/sd/z/zhantao/neurorient_repo/model/lightning_logs/version_2/checkpoints/last.ckpt')"
   ]
  },
  {
   "cell_type": "code",
   "execution_count": 5,
   "metadata": {},
   "outputs": [],
   "source": [
    "model = NeurOrient(spi_data['pixel_position_reciprocal'], volume_type='intensity', path=model_dir)\n",
    "# model.to('cpu');"
   ]
  },
  {
   "cell_type": "code",
   "execution_count": 6,
   "metadata": {},
   "outputs": [],
   "source": [
    "# model.compute_autocorrelation()\n",
    "# orientations = model.image_to_orientation(spi_data['images'][:10].unsqueeze(1))\n",
    "# from neurorient.reconstruction.slicing import get_rho_function\n",
    "# rho_true = torch.fft.fftshift(torch.fft.ifftn(torch.fft.ifftshift(spi_data['volume']))).real.clip(0)\n",
    "# rho_func = get_rho_function(spi_data['vol_real_mesh'], rho_true)\n",
    "# rho_img_coords = torch.from_numpy(rho_func(spi_data['img_real_mesh'].numpy()))\n",
    "# rho_true = torch.from_numpy(rho_func(model.grid_position_real.numpy()))\n",
    "# ac = model.compute_autocorrelation(rho=rho_true)\n",
    "# slices = model.gen_slices(ac, orientations)\n",
    "# plt.imshow(slices.detach().numpy()[0].clip(0), vmax=slices.max() * 0.001)"
   ]
  },
  {
   "cell_type": "code",
   "execution_count": 7,
   "metadata": {},
   "outputs": [],
   "source": [
    "import lightning as L"
   ]
  },
  {
   "cell_type": "code",
   "execution_count": 8,
   "metadata": {},
   "outputs": [],
   "source": [
    "from torch.utils.data import TensorDataset\n",
    "from torch.utils.data import DataLoader"
   ]
  },
  {
   "cell_type": "code",
   "execution_count": 9,
   "metadata": {},
   "outputs": [],
   "source": [
    "dataset = TensorDataset(spi_data['intensities'].unsqueeze(1))\n",
    "dataloader = DataLoader(dataset, batch_size=50, shuffle=True)"
   ]
  },
  {
   "cell_type": "code",
   "execution_count": 10,
   "metadata": {},
   "outputs": [],
   "source": [
    "# batch = next(iter(dataloader))\n",
    "# # model.training_step(batch, 0)\n",
    "# slices_true = batch[0]\n",
    "# orientations = model.image_to_orientation(slices_true)\n",
    "\n",
    "# from neurorient.reconstruction.slicing import gen_nonuniform_normalized_positions\n",
    "# # get reciprocal positions based on orientations\n",
    "# HKL = gen_nonuniform_normalized_positions(\n",
    "#     orientations, model.pixel_position_reciprocal, model.over_sampling)\n",
    "# slices_pred = model.predict_slice(HKL)"
   ]
  },
  {
   "cell_type": "code",
   "execution_count": 11,
   "metadata": {},
   "outputs": [],
   "source": [
    "from neurorient.utils_visualization import display_images_in_parallel, display_volumes\n",
    "\n",
    "# display_images_in_parallel(torch.randn(10, 3,3), torch.randn(10, 3,3))\n",
    "# display_volumes(torch.randn(10,3,3,3))"
   ]
  },
  {
   "cell_type": "code",
   "execution_count": 12,
   "metadata": {},
   "outputs": [],
   "source": [
    "from lightning.pytorch.callbacks import ModelCheckpoint, TQDMProgressBar\n",
    "\n",
    "checkpoint_callback = ModelCheckpoint(\n",
    "    every_n_train_steps=10, save_last=True, save_top_k=1, monitor=\"train_loss\"\n",
    ")"
   ]
  },
  {
   "cell_type": "code",
   "execution_count": 13,
   "metadata": {},
   "outputs": [
    {
     "name": "stderr",
     "output_type": "stream",
     "text": [
      "GPU available: True (cuda), used: True\n",
      "TPU available: False, using: 0 TPU cores\n",
      "IPU available: False, using: 0 IPUs\n",
      "HPU available: False, using: 0 HPUs\n",
      "You are using a CUDA device ('NVIDIA A100-PCIE-40GB') that has Tensor Cores. To properly utilize them, you should set `torch.set_float32_matmul_precision('medium' | 'high')` which will trade-off precision for performance. For more details, read https://pytorch.org/docs/stable/generated/torch.set_float32_matmul_precision.html#torch.set_float32_matmul_precision\n",
      "LOCAL_RANK: 0 - CUDA_VISIBLE_DEVICES: [0]\n",
      "\n",
      "  | Name                  | Type          | Params\n",
      "--------------------------------------------------------\n",
      "0 | orientation_predictor | ResNet2Rotmat | 11.2 M\n",
      "1 | volume_predictor      | IntensityNet  | 528 K \n",
      "2 | nufft_forward         | KbNufft       | 0     \n",
      "--------------------------------------------------------\n",
      "11.7 M    Trainable params\n",
      "0         Non-trainable params\n",
      "11.7 M    Total params\n",
      "46.834    Total estimated model params size (MB)\n"
     ]
    },
    {
     "name": "stdout",
     "output_type": "stream",
     "text": [
      "Epoch 0:   0%|          | 0/200 [00:00<?, ?it/s] "
     ]
    },
    {
     "name": "stderr",
     "output_type": "stream",
     "text": [
      "/global/homes/z/zhantao/.local/lib/python3.9/site-packages/matplotlib/image.py:446: RuntimeWarning: invalid value encountered in double_scalars\n",
      "  newmin = vmid - dv * fact\n"
     ]
    },
    {
     "name": "stdout",
     "output_type": "stream",
     "text": [
      "Epoch 0:  45%|████▌     | 90/200 [01:26<01:45,  1.04it/s, v_num=1.45e+7]"
     ]
    }
   ],
   "source": [
    "trainer = L.Trainer(\n",
    "    max_epochs=100, accelerator='gpu',\n",
    "    callbacks=[checkpoint_callback, TQDMProgressBar(refresh_rate=10)],\n",
    "    log_every_n_steps=1, devices=torch.cuda.device_count(),\n",
    "    enable_checkpointing=True, default_root_dir=model.path)\n",
    "trainer.fit(model, dataloader)"
   ]
  }
 ],
 "metadata": {
  "kernelspec": {
   "display_name": "Python 3",
   "language": "python",
   "name": "python3"
  },
  "language_info": {
   "codemirror_mode": {
    "name": "ipython",
    "version": 3
   },
   "file_extension": ".py",
   "mimetype": "text/x-python",
   "name": "python",
   "nbconvert_exporter": "python",
   "pygments_lexer": "ipython3",
   "version": "3.9.17"
  },
  "orig_nbformat": 4
 },
 "nbformat": 4,
 "nbformat_minor": 2
}
