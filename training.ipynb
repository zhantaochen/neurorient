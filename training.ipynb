{
 "cells": [
  {
   "cell_type": "code",
   "execution_count": 1,
   "metadata": {
    "tags": []
   },
   "outputs": [],
   "source": [
    "%load_ext autoreload\n",
    "%autoreload 2\n",
    "\n",
    "import torch\n",
    "import matplotlib.pyplot as plt\n",
    "from neurorient import NeurOrient\n",
    "\n",
    "from neurorient.utils_model import get_radial_profile"
   ]
  },
  {
   "cell_type": "code",
   "execution_count": 2,
   "metadata": {
    "tags": []
   },
   "outputs": [
    {
     "name": "stdout",
     "output_type": "stream",
     "text": [
      "dict_keys(['orientations', 'intensities', 'pixel_position_reciprocal', 'pixel_index_map', 'volume', 'img_real_mesh', 'vol_real_mesh', 'time_stamp'])\n"
     ]
    }
   ],
   "source": [
    "pdb = '1BXR'\n",
    "poisson = True\n",
    "num_images = 10000\n",
    "increase_factor = 10\n",
    "\n",
    "spi_data = torch.load(\n",
    "    f'/pscratch/sd/z/zhantao/neurorient_repo/data/{pdb}_increase{increase_factor}_poisson{poisson}_num{num_images//10}K.pt')\n",
    "model_dir = '/pscratch/sd/z/zhantao/neurorient_repo/model'\n",
    "print(spi_data.keys())"
   ]
  },
  {
   "cell_type": "code",
   "execution_count": 3,
   "metadata": {
    "tags": []
   },
   "outputs": [],
   "source": [
    "q_values, radial_profile = get_radial_profile(\n",
    "    spi_data['intensities'][:1000], \n",
    "    spi_data['pixel_position_reciprocal'])"
   ]
  },
  {
   "cell_type": "code",
   "execution_count": 4,
   "metadata": {
    "tags": []
   },
   "outputs": [],
   "source": [
    "radial_scale_configs = {\n",
    "    \"q_values\": q_values,\n",
    "    \"radial_profile\": radial_profile,\n",
    "    \"alpha\": 1.0\n",
    "}"
   ]
  },
  {
   "cell_type": "code",
   "execution_count": 5,
   "metadata": {
    "tags": []
   },
   "outputs": [],
   "source": [
    "model = NeurOrient(spi_data['pixel_position_reciprocal'], volume_type='intensity', path=model_dir, loss_type='mse', radial_scale_configs=radial_scale_configs, lr=1e-3)\n",
    "# model = NeurOrient.load_from_checkpoint('/pscratch/sd/z/zhantao/neurorient_repo/model/lightning_logs/version_14651494/checkpoints/1BXR-epoch=857-step=17150.ckpt')\n",
    "# model.to('cpu');"
   ]
  },
  {
   "cell_type": "code",
   "execution_count": 6,
   "metadata": {
    "tags": []
   },
   "outputs": [],
   "source": [
    "import lightning as L"
   ]
  },
  {
   "cell_type": "code",
   "execution_count": 7,
   "metadata": {
    "tags": []
   },
   "outputs": [],
   "source": [
    "from torch.utils.data import TensorDataset\n",
    "from torch.utils.data import DataLoader"
   ]
  },
  {
   "cell_type": "code",
   "execution_count": 8,
   "metadata": {
    "tags": []
   },
   "outputs": [],
   "source": [
    "dataset = TensorDataset(spi_data['intensities'].unsqueeze(1))\n",
    "dataloader = DataLoader(dataset, batch_size=100, shuffle=True)"
   ]
  },
  {
   "cell_type": "code",
   "execution_count": 9,
   "metadata": {
    "tags": []
   },
   "outputs": [],
   "source": [
    "# batch = next(iter(dataloader))\n",
    "# # model.training_step(batch, 0)\n",
    "# slices_true = batch[0]\n",
    "# orientations = model.image_to_orientation(slices_true)\n",
    "\n",
    "# from neurorient.reconstruction.slicing import gen_nonuniform_normalized_positions\n",
    "# # get reciprocal positions based on orientations\n",
    "# HKL = gen_nonuniform_normalized_positions(\n",
    "#     orientations, model.pixel_position_reciprocal, model.over_sampling)\n",
    "# slices_pred = model.predict_slice(HKL)"
   ]
  },
  {
   "cell_type": "code",
   "execution_count": 10,
   "metadata": {},
   "outputs": [],
   "source": [
    "# from neurorient.utils_visualization import display_images_in_parallel, display_volumes\n",
    "\n",
    "# display_images_in_parallel(torch.randn(10, 3,3), torch.randn(10, 3,3))\n",
    "# display_volumes(torch.randn(10,3,3,3))"
   ]
  },
  {
   "cell_type": "code",
   "execution_count": 11,
   "metadata": {
    "tags": []
   },
   "outputs": [],
   "source": [
    "from lightning.pytorch.callbacks import ModelCheckpoint, TQDMProgressBar\n",
    "\n",
    "checkpoint_callback = ModelCheckpoint(\n",
    "    every_n_train_steps=10, save_last=True, save_top_k=1, monitor=\"train_loss\",\n",
    "    filename=f'{pdb}-{{epoch}}-{{step}}'\n",
    ")"
   ]
  },
  {
   "cell_type": "code",
   "execution_count": 12,
   "metadata": {
    "tags": []
   },
   "outputs": [],
   "source": [
    "from lightning.pytorch.strategies import DDPStrategy\n",
    "\n",
    "# Explicitly specify the process group backend if you choose to\n",
    "# ddp = DDPStrategy(process_group_backend=\"nccl\")"
   ]
  },
  {
   "cell_type": "code",
   "execution_count": null,
   "metadata": {
    "tags": []
   },
   "outputs": [
    {
     "name": "stderr",
     "output_type": "stream",
     "text": [
      "GPU available: True (cuda), used: True\n",
      "TPU available: False, using: 0 TPU cores\n",
      "IPU available: False, using: 0 IPUs\n",
      "HPU available: False, using: 0 HPUs\n",
      "LOCAL_RANK: 0 - CUDA_VISIBLE_DEVICES: [0]\n",
      "\n",
      "  | Name                  | Type          | Params\n",
      "--------------------------------------------------------\n",
      "0 | orientation_predictor | ResNet2Rotmat | 11.2 M\n",
      "1 | volume_predictor      | IntensityNet  | 264 K \n",
      "2 | nufft_forward         | KbNufft       | 0     \n",
      "3 | loss_func             | MSELoss       | 0     \n",
      "--------------------------------------------------------\n",
      "11.4 M    Trainable params\n",
      "0         Non-trainable params\n",
      "11.4 M    Total params\n",
      "45.776    Total estimated model params size (MB)\n",
      "SLURM auto-requeueing enabled. Setting signal handlers.\n"
     ]
    },
    {
     "name": "stdout",
     "output_type": "stream",
     "text": [
      "Epoch 220:   0%|          | 0/10 [00:00<?, ?it/s, v_num=1.47e+7]         "
     ]
    }
   ],
   "source": [
    "torch.set_float32_matmul_precision('high')\n",
    "trainer = L.Trainer(\n",
    "    max_epochs=1000, accelerator='gpu',\n",
    "    callbacks=[checkpoint_callback, TQDMProgressBar(refresh_rate=10)],\n",
    "    log_every_n_steps=1, devices=torch.cuda.device_count(),\n",
    "    enable_checkpointing=True, default_root_dir=model.path)\n",
    "trainer.fit(model, dataloader)"
   ]
  },
  {
   "cell_type": "code",
   "execution_count": null,
   "metadata": {},
   "outputs": [],
   "source": []
  }
 ],
 "metadata": {
  "kernelspec": {
   "display_name": "om",
   "language": "python",
   "name": "om"
  },
  "language_info": {
   "codemirror_mode": {
    "name": "ipython",
    "version": 3
   },
   "file_extension": ".py",
   "mimetype": "text/x-python",
   "name": "python",
   "nbconvert_exporter": "python",
   "pygments_lexer": "ipython3",
   "version": "3.9.17"
  }
 },
 "nbformat": 4,
 "nbformat_minor": 4
}
