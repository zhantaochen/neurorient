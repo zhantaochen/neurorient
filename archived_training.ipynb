{
 "cells": [
  {
   "cell_type": "code",
   "execution_count": 1,
   "metadata": {
    "tags": []
   },
   "outputs": [],
   "source": [
    "%load_ext autoreload\n",
    "%autoreload 2\n",
    "\n",
    "import torch\n",
    "import matplotlib.pyplot as plt\n",
    "import numpy as np\n",
    "\n",
    "from sklearn.model_selection import train_test_split\n",
    "\n",
    "from neurorient import NeurOrient\n",
    "\n",
    "from neurorient.utils_model import get_radial_profile\n",
    "\n",
    "import lightning as L\n",
    "from lightning.pytorch.callbacks import ModelCheckpoint, TQDMProgressBar\n",
    "from torch.utils.data import TensorDataset\n",
    "from torch.utils.data import DataLoader"
   ]
  },
  {
   "cell_type": "code",
   "execution_count": 2,
   "metadata": {
    "tags": []
   },
   "outputs": [
    {
     "name": "stdout",
     "output_type": "stream",
     "text": [
      "dict_keys(['orientations', 'intensities', 'pixel_position_reciprocal', 'pixel_index_map', 'volume', 'img_real_mesh', 'vol_real_mesh', 'time_stamp'])\n"
     ]
    }
   ],
   "source": [
    "pdb = '1BXR'\n",
    "poisson = True\n",
    "num_images = 10000\n",
    "increase_factor = 10\n",
    "\n",
    "spi_data = torch.load(\n",
    "    f'/pscratch/sd/z/zhantao/neurorient_repo/data/{pdb}_increase{increase_factor}_poisson{poisson}_num{num_images//1000}K.pt')\n",
    "model_dir = '/pscratch/sd/z/zhantao/neurorient_repo/model'\n",
    "print(spi_data.keys())"
   ]
  },
  {
   "cell_type": "code",
   "execution_count": null,
   "metadata": {},
   "outputs": [],
   "source": [
    "dataset = TensorDataset(spi_data['intensities'].unsqueeze(1))\n",
    "\n",
    "train_idx, val_test_idx = train_test_split(np.arange(len(dataset)), test_size=1/10, random_state=42)\n",
    "val_idx, test_idx = train_test_split(val_test_idx, test_size=1/2, random_state=42)\n",
    "\n",
    "train_dataloader = DataLoader([dataset[i] for i in train_idx], batch_size=15, shuffle=True)\n",
    "val_dataloader = DataLoader([dataset[i] for i in val_idx], batch_size=15, shuffle=False)"
   ]
  },
  {
   "cell_type": "code",
   "execution_count": 3,
   "metadata": {
    "tags": []
   },
   "outputs": [],
   "source": [
    "q_values, radial_profile = get_radial_profile(\n",
    "    spi_data['intensities'][:1000], \n",
    "    spi_data['pixel_position_reciprocal'])\n",
    "\n",
    "radial_scale_configs = {\n",
    "    \"q_values\": q_values,\n",
    "    \"radial_profile\": radial_profile,\n",
    "    \"alpha\": 1.0\n",
    "}"
   ]
  },
  {
   "cell_type": "code",
   "execution_count": 5,
   "metadata": {
    "tags": []
   },
   "outputs": [],
   "source": [
    "model = NeurOrient(\n",
    "    spi_data['pixel_position_reciprocal'], path=model_dir, \n",
    "    radial_scale_configs=radial_scale_configs, lr=1e-3,\n",
    "    photons_per_pulse=1e12 * increase_factor)"
   ]
  },
  {
   "cell_type": "code",
   "execution_count": 9,
   "metadata": {
    "tags": []
   },
   "outputs": [],
   "source": [
    "checkpoint_callback = ModelCheckpoint(\n",
    "    every_n_train_steps=10, save_last=True, save_top_k=1, monitor=\"val_loss\",\n",
    "    filename=f'{pdb}-{{epoch}}-{{step}}'\n",
    ")\n",
    "torch.set_float32_matmul_precision('high')\n",
    "trainer = L.Trainer(\n",
    "    max_epochs=500, accelerator='gpu',\n",
    "    callbacks=[checkpoint_callback, TQDMProgressBar(refresh_rate=10)],\n",
    "    log_every_n_steps=1, devices=torch.cuda.device_count(),\n",
    "    enable_checkpointing=True, default_root_dir=model.path)\n",
    "trainer.fit(model, train_dataloader, val_dataloader)"
   ]
  }
 ],
 "metadata": {
  "kernelspec": {
   "display_name": "Python 3 (ipykernel)",
   "language": "python",
   "name": "python3"
  },
  "language_info": {
   "codemirror_mode": {
    "name": "ipython",
    "version": 3
   },
   "file_extension": ".py",
   "mimetype": "text/x-python",
   "name": "python",
   "nbconvert_exporter": "python",
   "pygments_lexer": "ipython3",
   "version": "3.9.17"
  }
 },
 "nbformat": 4,
 "nbformat_minor": 4
}
