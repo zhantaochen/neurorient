{
 "cells": [
  {
   "cell_type": "code",
   "execution_count": null,
   "metadata": {},
   "outputs": [],
   "source": [
    "%load_ext autoreload\n",
    "%autoreload 2\n",
    "\n",
    "import torch\n",
    "import matplotlib.pyplot as plt\n",
    "from neurorient import NeurOrient\n",
    "from neurorient.utils_visualization import save_mrc\n",
    "from neurorient.reconstruction.phasing import PhaseRetriever\n"
   ]
  },
  {
   "cell_type": "code",
   "execution_count": null,
   "metadata": {},
   "outputs": [],
   "source": [
    "device = 'cuda' if torch.cuda.is_available() else 'cpu'"
   ]
  },
  {
   "cell_type": "code",
   "execution_count": null,
   "metadata": {},
   "outputs": [],
   "source": [
    "spi_data = torch.load('/pscratch/sd/z/zhantao/neurorient_repo/data/1BXR_increase10_poissonFalse_num10K.pt')\n",
    "model_dir = '/pscratch/sd/z/zhantao/neurorient_repo/model'\n",
    "print(spi_data.keys())"
   ]
  },
  {
   "cell_type": "code",
   "execution_count": null,
   "metadata": {},
   "outputs": [],
   "source": [
    "model = NeurOrient.load_from_checkpoint(\n",
    "    '/pscratch/sd/z/zhantao/neurorient_repo/model/lightning_logs/version_14729080/checkpoints/last.ckpt')"
   ]
  },
  {
   "cell_type": "code",
   "execution_count": null,
   "metadata": {},
   "outputs": [],
   "source": [
    "model.to(device);"
   ]
  },
  {
   "cell_type": "code",
   "execution_count": null,
   "metadata": {},
   "outputs": [],
   "source": [
    "slices_true = spi_data['intensities'][:10]\n",
    "slices_target = torch.log(slices_true * 10 + 1).unsqueeze(1)"
   ]
  },
  {
   "cell_type": "code",
   "execution_count": null,
   "metadata": {},
   "outputs": [],
   "source": [
    "from neurorient.reconstruction.slicing import gen_nonuniform_normalized_positions\n",
    "\n",
    "with torch.no_grad():\n",
    "    orientations = model.image_to_orientation(slices_target.to(device))\n",
    "    # get reciprocal positions based on orientations\n",
    "    # HKL has shape (3, num_qpts)\n",
    "    HKL = gen_nonuniform_normalized_positions(\n",
    "        orientations, model.pixel_position_reciprocal, model.over_sampling)\n",
    "    # predict slices from HKL\n",
    "    slices_pred = model.predict_slice(HKL).view((-1, 1,) + (model.image_dimension,)*2)\n",
    "    \n",
    "slices_pred = torch.exp(slices_pred)\n",
    "plt.imshow(slices_pred[3,0].detach().cpu(), vmax=slices_pred.max() * 1e-3)"
   ]
  },
  {
   "cell_type": "code",
   "execution_count": null,
   "metadata": {},
   "outputs": [],
   "source": [
    "import numpy as np\n",
    "\n",
    "model.to(device)\n",
    "\n",
    "grid_reciprocal = model.grid_position_reciprocal / model.grid_position_reciprocal.max()\n",
    "with torch.no_grad():\n",
    "    intensity = model.predict_intensity(np.pi * grid_reciprocal.to(device))\n",
    "intensity_pred = torch.exp(intensity)"
   ]
  },
  {
   "cell_type": "code",
   "execution_count": null,
   "metadata": {},
   "outputs": [],
   "source": [
    "phase_retriever = PhaseRetriever(n_phase_loops=30, beta=0.5)\n",
    "rho_phased, support_phased = phase_retriever.phase(intensity_pred.sqrt().to('cuda'))"
   ]
  },
  {
   "cell_type": "code",
   "execution_count": null,
   "metadata": {},
   "outputs": [],
   "source": [
    "plt.imshow(rho_phased[64].clip(0).cpu())"
   ]
  },
  {
   "cell_type": "code",
   "execution_count": null,
   "metadata": {},
   "outputs": [],
   "source": [
    "save_mrc('1bxr.mrc', rho_phased.detach().cpu().numpy())"
   ]
  }
 ],
 "metadata": {
  "kernelspec": {
   "display_name": "neurorient",
   "language": "python",
   "name": "neurorient"
  },
  "language_info": {
   "codemirror_mode": {
    "name": "ipython",
    "version": 3
   },
   "file_extension": ".py",
   "mimetype": "text/x-python",
   "name": "python",
   "nbconvert_exporter": "python",
   "pygments_lexer": "ipython3",
   "version": "3.9.17"
  },
  "orig_nbformat": 4
 },
 "nbformat": 4,
 "nbformat_minor": 2
}
