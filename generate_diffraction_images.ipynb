{
 "cells": [
  {
   "cell_type": "code",
   "execution_count": 1,
   "metadata": {},
   "outputs": [
    {
     "name": "stderr",
     "output_type": "stream",
     "text": [
      "/pscratch/sd/z/zhantao/conda/om/lib/python3.9/site-packages/skopi/diffraction.py:76: NumbaDeprecationWarning: The 'nopython' keyword argument was not supplied to the 'numba.jit' decorator. The implicit default value for this argument is currently False, but it will be changed to True in Numba 0.59.0. See https://numba.readthedocs.io/en/stable/reference/deprecation.html#deprecation-of-object-mode-fall-back-behaviour-when-using-jit for details.\n",
      "  def get_phase(atom_pos, q_xyz):\n",
      "/pscratch/sd/z/zhantao/conda/om/lib/python3.9/site-packages/skopi/diffraction.py:90: NumbaDeprecationWarning: The 'nopython' keyword argument was not supplied to the 'numba.jit' decorator. The implicit default value for this argument is currently False, but it will be changed to True in Numba 0.59.0. See https://numba.readthedocs.io/en/stable/reference/deprecation.html#deprecation-of-object-mode-fall-back-behaviour-when-using-jit for details.\n",
      "  def cal(f_hkl, atom_pos, q_xyz, xyz_ind, pixel_number):\n",
      "/pscratch/sd/z/zhantao/conda/om/lib/python3.9/site-packages/skopi/geometry/convert.py:146: NumbaDeprecationWarning: The 'nopython' keyword argument was not supplied to the 'numba.jit' decorator. The implicit default value for this argument is currently False, but it will be changed to True in Numba 0.59.0. See https://numba.readthedocs.io/en/stable/reference/deprecation.html#deprecation-of-object-mode-fall-back-behaviour-when-using-jit for details.\n",
      "  def euler_to_quaternion(psi, theta, phi):\n",
      "/pscratch/sd/z/zhantao/conda/om/lib/python3.9/site-packages/skopi/geometry/convert.py:201: NumbaDeprecationWarning: The 'nopython' keyword argument was not supplied to the 'numba.jit' decorator. The implicit default value for this argument is currently False, but it will be changed to True in Numba 0.59.0. See https://numba.readthedocs.io/en/stable/reference/deprecation.html#deprecation-of-object-mode-fall-back-behaviour-when-using-jit for details.\n",
      "  def rotmat_to_quaternion(rotmat):\n",
      "/pscratch/sd/z/zhantao/conda/om/lib/python3.9/site-packages/skopi/geometry/convert.py:252: NumbaDeprecationWarning: The 'nopython' keyword argument was not supplied to the 'numba.jit' decorator. The implicit default value for this argument is currently False, but it will be changed to True in Numba 0.59.0. See https://numba.readthedocs.io/en/stable/reference/deprecation.html#deprecation-of-object-mode-fall-back-behaviour-when-using-jit for details.\n",
      "  def quaternion2rot3d(quat):\n",
      "/pscratch/sd/z/zhantao/conda/om/lib/python3.9/site-packages/skopi/crosstalk.py:56: NumbaDeprecationWarning: The 'nopython' keyword argument was not supplied to the 'numba.jit' decorator. The implicit default value for this argument is currently False, but it will be changed to True in Numba 0.59.0. See https://numba.readthedocs.io/en/stable/reference/deprecation.html#deprecation-of-object-mode-fall-back-behaviour-when-using-jit for details.\n",
      "  def cross_talk_effect(dbase, photons, shape, dbsize, boundary):\n"
     ]
    },
    {
     "data": {
      "text/plain": [
       "'1'"
      ]
     },
     "execution_count": 1,
     "metadata": {},
     "output_type": "execute_result"
    }
   ],
   "source": [
    "# %load_ext autoreload\n",
    "# %autoreload 2\n",
    "\n",
    "import matplotlib.pyplot as plt\n",
    "import numpy as np\n",
    "import skopi as sk\n",
    "\n",
    "import torch\n",
    "from tqdm import tqdm \n",
    "import time\n",
    "import h5py\n",
    "\n",
    "from neurorient import uniform_points_on_sphere\n",
    "from neurorient.reconstruction.slicing import get_real_mesh\n",
    "\n",
    "import os\n",
    "os.environ[\"USE_CUPY\"] = \"1\"\n",
    "os.environ.get('USE_CUPY')"
   ]
  },
  {
   "cell_type": "code",
   "execution_count": 2,
   "metadata": {},
   "outputs": [],
   "source": [
    "save_dir = '/pscratch/sd/z/zhantao/neurorient_repo/data'"
   ]
  },
  {
   "cell_type": "code",
   "execution_count": 3,
   "metadata": {},
   "outputs": [],
   "source": [
    "n_pixels, det_size, det_dist = (128, 0.1, 0.2)\n",
    "det = sk.SimpleSquareDetector(n_pixels, det_size, det_dist)"
   ]
  },
  {
   "cell_type": "code",
   "execution_count": 4,
   "metadata": {},
   "outputs": [],
   "source": [
    "pdb = '1BXR'\n",
    "increase_factor = 1\n",
    "poisson = False\n",
    "num_images = 10000"
   ]
  },
  {
   "cell_type": "code",
   "execution_count": 5,
   "metadata": {},
   "outputs": [
    {
     "name": "stdout",
     "output_type": "stream",
     "text": [
      "Unknown element or wrong line: \n",
      " HETATM44708 MN    MN A1074      18.497  28.122  73.953  1.00 24.31          MN  \n",
      "\n",
      "Unknown element or wrong line: \n",
      " HETATM44709  K     K A1075      19.175  40.400  68.787  1.00 27.23           K  \n",
      "\n",
      "Unknown element or wrong line: \n",
      " HETATM44710  K     K A1076      16.179  26.429  76.392  1.00 28.97           K  \n",
      "\n",
      "Unknown element or wrong line: \n",
      " HETATM44711 MN    MN A1077      46.831  24.868  51.269  1.00 29.70          MN  \n",
      "\n",
      "Unknown element or wrong line: \n",
      " HETATM44712 MN    MN A1078      48.316  28.297  52.317  1.00 33.25          MN  \n",
      "\n",
      "Unknown element or wrong line: \n",
      " HETATM44713  K     K A1079      42.460  17.035  48.978  1.00 26.16           K  \n",
      "\n",
      "Unknown element or wrong line: \n",
      " HETATM44798  K     K B 984      39.799  64.742  81.201  1.00 31.65           K  \n",
      "\n",
      "Unknown element or wrong line: \n",
      " HETATM44799 MN    MN C1901       7.038  40.795 -48.602  1.00 29.00          MN  \n",
      "\n",
      "Unknown element or wrong line: \n",
      " HETATM44800  K     K C1903       9.575  28.579 -44.005  1.00 19.05           K  \n",
      "\n",
      "Unknown element or wrong line: \n",
      " HETATM44801  K     K C1904       4.152  42.365 -50.481  1.00 31.74           K  \n",
      "\n",
      "Unknown element or wrong line: \n",
      " HETATM44802 MN    MN C1911      39.082  46.521 -32.064  1.00 23.08          MN  \n",
      "\n",
      "Unknown element or wrong line: \n",
      " HETATM44803 MN    MN C1912      40.480  43.062 -33.244  1.00 31.05          MN  \n",
      "\n",
      "Unknown element or wrong line: \n",
      " HETATM44804  K     K C1913      34.172  54.149 -28.866  1.00 30.85           K  \n",
      "\n",
      "Unknown element or wrong line: \n",
      " HETATM44808  K     K C3985      -8.986  34.229 -48.036  1.00 54.69           K  \n",
      "\n",
      "Unknown element or wrong line: \n",
      " HETATM44809 MN    MN C3986      -9.880  50.038 -40.071  1.00 25.62          MN  \n",
      "\n",
      "Unknown element or wrong line: \n",
      " HETATM44891  K     K D3984      29.702   5.916 -59.871  1.00 49.74           K  \n",
      "\n",
      "Unknown element or wrong line: \n",
      " HETATM44892 MN    MN E2901      18.533  91.639  33.959  1.00 29.70          MN  \n",
      "\n",
      "Unknown element or wrong line: \n",
      " HETATM44893  K     K E2903      17.557  81.820  42.757  1.00 27.11           K  \n",
      "\n",
      "Unknown element or wrong line: \n",
      " HETATM44894  K     K E2904      20.841  94.492  33.346  1.00 43.59           K  \n",
      "\n",
      "Unknown element or wrong line: \n",
      " HETATM44895 MN    MN E2911     -12.064  75.690  22.864  1.00 30.61          MN  \n",
      "\n",
      "Unknown element or wrong line: \n",
      " HETATM44896 MN    MN E2912     -13.356  75.071  26.505  1.00 38.00          MN  \n",
      "\n",
      "Unknown element or wrong line: \n",
      " HETATM44897  K     K E2913      -8.144  76.930  14.389  1.00 25.77           K  \n",
      "\n",
      "Unknown element or wrong line: \n",
      " HETATM44900  K     K E2982      -6.337 106.282  34.265  1.00 34.35           K  \n",
      "\n",
      "Unknown element or wrong line: \n",
      " HETATM44901  K     K E2983      11.250 117.628  24.231  1.00 37.32           K  \n",
      "\n",
      "Unknown element or wrong line: \n",
      " HETATM44982 MN    MN G3901      17.141 -22.268 -10.362  1.00 33.13          MN  \n",
      "\n",
      "Unknown element or wrong line: \n",
      " HETATM44983  K     K G3903      14.268 -12.674 -18.756  1.00 27.80           K  \n",
      "\n",
      "Unknown element or wrong line: \n",
      " HETATM44984  K     K G3904      19.781 -25.034 -10.137  1.00 33.31           K  \n",
      "\n",
      "Unknown element or wrong line: \n",
      " HETATM44985 MN    MN G3911     -10.888  -7.026   6.662  1.00 32.69          MN  \n",
      "\n",
      "Unknown element or wrong line: \n",
      " HETATM44986 MN    MN G3912     -13.049  -6.455   3.241  1.00 36.96          MN  \n",
      "\n",
      "Unknown element or wrong line: \n",
      " HETATM44987  K     K G3913      -5.540  -8.192  14.173  1.00 30.88           K  \n",
      "\n",
      "Unknown element or wrong line: \n",
      " HETATM44992  K     K G3988     -19.641 -25.353 -32.655  1.00 39.94           K  \n",
      "\n",
      "Unknown element or wrong line: \n",
      " HETATM45073  K     K H3987     -10.085 -14.654 -43.062  1.00 36.77           K  \n",
      "\n"
     ]
    },
    {
     "name": "stderr",
     "output_type": "stream",
     "text": [
      "/pscratch/sd/z/zhantao/conda/om/lib/python3.9/site-packages/numba/cuda/cudadrv/devicearray.py:886: NumbaPerformanceWarning: Host array used in CUDA kernel will incur copy overhead to/from device.\n",
      "  warn(NumbaPerformanceWarning(msg))\n"
     ]
    }
   ],
   "source": [
    "# Set up x-ray beam\n",
    "beam = sk.Beam(\"input/beam/amo86615.beam\")\n",
    "beam.set_photons_per_pulse(increase_factor * beam.get_photons_per_pulse())\n",
    "\n",
    "# Set up particle\n",
    "# pdb file of lidless mmCpn in open state\n",
    "particle = sk.Particle()\n",
    "particle.read_pdb(f\"input/pdb/{pdb}.pdb\", ff='WK')\n",
    "\n",
    "# Set up SPI experiment\n",
    "exp = sk.SPIExperiment(det, beam, particle)"
   ]
  },
  {
   "cell_type": "code",
   "execution_count": 6,
   "metadata": {},
   "outputs": [
    {
     "name": "stdout",
     "output_type": "stream",
     "text": [
      "[[ 0.56397793 -0.55442653 -0.60717024 -0.07670999]\n",
      " [ 0.19255406 -0.11049266  0.89366123  0.38997937]\n",
      " [ 0.46295972  0.23167726  0.70263045 -0.48816431]\n",
      " ...\n",
      " [ 0.21783528 -0.07641909  0.11864684  0.96572814]\n",
      " [ 0.27062828 -0.72751106  0.36735123 -0.51238761]\n",
      " [ 0.78133746  0.41517632  0.46547994 -0.02165244]]\n"
     ]
    },
    {
     "name": "stderr",
     "output_type": "stream",
     "text": [
      "  0%|          | 0/10000 [00:00<?, ?it/s]"
     ]
    },
    {
     "name": "stderr",
     "output_type": "stream",
     "text": [
      "100%|██████████| 10000/10000 [01:46<00:00, 93.54it/s]\n"
     ]
    }
   ],
   "source": [
    "# generate random orientations\n",
    "np.random.seed(42)\n",
    "orientations = sk.get_random_quat(num_images)\n",
    "print(orientations)\n",
    "\n",
    "# setup experiment with generated orientations\n",
    "exp.set_orientations(orientations)\n",
    "# preallocate memory for images\n",
    "images = np.zeros((len(orientations), ) + det.shape[1:])\n",
    "# calculate and fill in images\n",
    "for i in tqdm(range(len(orientations))):\n",
    "    if poisson:\n",
    "        images[i] = exp.generate_image_stack(return_photons=True, return_intensities=False)[0]\n",
    "    else:\n",
    "        images[i] = exp.generate_image_stack(return_photons=False, return_intensities=True)[0]"
   ]
  },
  {
   "cell_type": "code",
   "execution_count": 7,
   "metadata": {},
   "outputs": [],
   "source": [
    "img_real_mesh = get_real_mesh(det.shape[1], det.pixel_position_reciprocal.max())\n",
    "_mesh, _len = exp.det.get_reciprocal_mesh(voxel_number_1d=exp.mesh_size)\n",
    "vol_real_mesh = get_real_mesh(_mesh.shape[0], _mesh.max())"
   ]
  },
  {
   "cell_type": "code",
   "execution_count": 8,
   "metadata": {},
   "outputs": [
    {
     "name": "stdout",
     "output_type": "stream",
     "text": [
      "data wrote to: \n",
      " /pscratch/sd/z/zhantao/neurorient_repo/data/1BXR_increase1_poissonFalse_num10K.pt\n"
     ]
    }
   ],
   "source": [
    "pt_fpath = os.path.join(save_dir, f'{pdb}_increase{increase_factor:d}_poisson{poisson}_num{num_images//1000:d}K.pt')\n",
    "torch.save(\n",
    "    {\n",
    "        'orientations': torch.from_numpy(orientations).float(),\n",
    "        'intensities': torch.from_numpy(images).float(),\n",
    "        'pixel_position_reciprocal': torch.from_numpy(det.pixel_position_reciprocal).float(),\n",
    "        'pixel_index_map': torch.from_numpy(det.pixel_index_map).long(),\n",
    "        'volume': torch.from_numpy(exp.volumes[0]).to(torch.complex64),\n",
    "        'img_real_mesh': img_real_mesh.float(),\n",
    "        'vol_real_mesh': vol_real_mesh.float(),\n",
    "        'time_stamp': time.strftime(\"%Y%m%d-%H%M\")\n",
    "    }, pt_fpath\n",
    ")\n",
    "print(\"data wrote to: \\n\", pt_fpath)"
   ]
  },
  {
   "cell_type": "code",
   "execution_count": 9,
   "metadata": {},
   "outputs": [
    {
     "name": "stdout",
     "output_type": "stream",
     "text": [
      "data wrote to: \n",
      " /pscratch/sd/z/zhantao/neurorient_repo/data/1BXR_increase1_poissonFalse_num10K.h5\n"
     ]
    }
   ],
   "source": [
    "h5_fpath = os.path.join(\n",
    "    save_dir, \n",
    "    f'{pdb}_increase{increase_factor:d}_poisson{poisson}_num{num_images//1000}K.h5')\n",
    "with h5py.File(h5_fpath, 'w') as f:\n",
    "    f.create_dataset('intensities', data=images[:, None])\n",
    "    f.create_dataset('orientations', data=orientations)\n",
    "    f.create_dataset('pixel_position_reciprocal', data=det.pixel_position_reciprocal)\n",
    "    f.create_dataset('pixel_distance_reciprocal', data=det.pixel_distance_reciprocal)\n",
    "    f.create_dataset('pixel_index_map', data=det.pixel_index_map)\n",
    "print(\"data wrote to: \\n\", h5_fpath)"
   ]
  }
 ],
 "metadata": {
  "kernelspec": {
   "display_name": "Python 3",
   "language": "python",
   "name": "python3"
  },
  "language_info": {
   "codemirror_mode": {
    "name": "ipython",
    "version": 3
   },
   "file_extension": ".py",
   "mimetype": "text/x-python",
   "name": "python",
   "nbconvert_exporter": "python",
   "pygments_lexer": "ipython3",
   "version": "3.9.17"
  },
  "orig_nbformat": 4
 },
 "nbformat": 4,
 "nbformat_minor": 2
}
