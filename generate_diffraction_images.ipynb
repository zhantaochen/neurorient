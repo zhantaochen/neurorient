{
 "cells": [
  {
   "cell_type": "code",
   "execution_count": null,
   "metadata": {},
   "outputs": [],
   "source": [
    "# %load_ext autoreload\n",
    "# %autoreload 2\n",
    "\n",
    "import matplotlib.pyplot as plt\n",
    "import numpy as np\n",
    "import skopi as sk\n",
    "\n",
    "import torch\n",
    "from tqdm import tqdm \n",
    "import time\n",
    "import h5py\n",
    "\n",
    "from neurorient import uniform_points_on_sphere\n",
    "from neurorient.reconstruction.slicing import get_real_mesh\n",
    "\n",
    "import os\n",
    "os.environ[\"USE_CUPY\"] = \"1\"\n",
    "os.environ.get('USE_CUPY')"
   ]
  },
  {
   "cell_type": "code",
   "execution_count": null,
   "metadata": {},
   "outputs": [],
   "source": [
    "save_dir = '/pscratch/sd/z/zhantao/neurorient_repo/data'"
   ]
  },
  {
   "cell_type": "code",
   "execution_count": null,
   "metadata": {},
   "outputs": [],
   "source": [
    "n_pixels, det_size, det_dist = (128, 0.1, 0.2)\n",
    "det = sk.SimpleSquareDetector(n_pixels, det_size, det_dist)"
   ]
  },
  {
   "cell_type": "code",
   "execution_count": null,
   "metadata": {},
   "outputs": [],
   "source": [
    "pdb = '5UOE'\n",
    "increase_factor = 1\n",
    "poisson = False\n",
    "num_images = 10000"
   ]
  },
  {
   "cell_type": "code",
   "execution_count": null,
   "metadata": {},
   "outputs": [],
   "source": [
    "# Set up x-ray beam\n",
    "beam = sk.Beam(\"input/beam/amo86615.beam\")\n",
    "beam.set_photons_per_pulse(increase_factor * beam.get_photons_per_pulse())\n",
    "\n",
    "# Set up particle\n",
    "# pdb file of lidless mmCpn in open state\n",
    "particle = sk.Particle()\n",
    "particle.read_pdb(f\"input/pdb/{pdb}.pdb\", ff='WK')\n",
    "\n",
    "# Set up SPI experiment\n",
    "exp = sk.SPIExperiment(det, beam, particle)"
   ]
  },
  {
   "cell_type": "code",
   "execution_count": null,
   "metadata": {},
   "outputs": [],
   "source": [
    "# generate random orientations\n",
    "np.random.seed(42)\n",
    "orientations = sk.get_random_quat(num_images)\n",
    "print(orientations)\n",
    "\n",
    "# setup experiment with generated orientations\n",
    "exp.set_orientations(orientations)\n",
    "# preallocate memory for images\n",
    "images = np.zeros((len(orientations), ) + det.shape[1:])\n",
    "# calculate and fill in images\n",
    "for i in tqdm(range(len(orientations))):\n",
    "    if poisson:\n",
    "        images[i] = exp.generate_image_stack(return_photons=True, return_intensities=False)[0]\n",
    "    else:\n",
    "        images[i] = exp.generate_image_stack(return_photons=False, return_intensities=True)[0]"
   ]
  },
  {
   "cell_type": "code",
   "execution_count": null,
   "metadata": {},
   "outputs": [],
   "source": [
    "img_real_mesh = get_real_mesh(det.shape[1], det.pixel_position_reciprocal.max())\n",
    "_mesh, _len = exp.det.get_reciprocal_mesh(voxel_number_1d=exp.mesh_size)\n",
    "vol_real_mesh = get_real_mesh(_mesh.shape[0], _mesh.max())"
   ]
  },
  {
   "cell_type": "code",
   "execution_count": null,
   "metadata": {},
   "outputs": [],
   "source": [
    "pt_fpath = os.path.join(save_dir, f'{pdb}_increase{increase_factor:d}_poisson{poisson}_num{num_images//1000:d}K.pt')\n",
    "torch.save(\n",
    "    {\n",
    "        'orientations': torch.from_numpy(orientations).float(),\n",
    "        'intensities': torch.from_numpy(images).float(),\n",
    "        'pixel_position_reciprocal': torch.from_numpy(det.pixel_position_reciprocal).float(),\n",
    "        'pixel_index_map': torch.from_numpy(det.pixel_index_map).long(),\n",
    "        'volume': torch.from_numpy(exp.volumes[0]).to(torch.complex64),\n",
    "        'img_real_mesh': img_real_mesh.float(),\n",
    "        'vol_real_mesh': vol_real_mesh.float(),\n",
    "        'time_stamp': time.strftime(\"%Y%m%d-%H%M\")\n",
    "    }, pt_fpath\n",
    ")\n",
    "print(\"data wrote to: \\n\", pt_fpath)"
   ]
  },
  {
   "cell_type": "code",
   "execution_count": null,
   "metadata": {},
   "outputs": [],
   "source": [
    "h5_fpath = os.path.join(\n",
    "    save_dir, \n",
    "    f'{pdb}_increase{increase_factor:d}_poisson{poisson}_num{num_images//1000}K.h5')\n",
    "with h5py.File(h5_fpath, 'w') as f:\n",
    "    f.create_dataset('intensities', data=images[:, None])\n",
    "    f.create_dataset('orientations', data=orientations)\n",
    "    f.create_dataset('pixel_position_reciprocal', data=det.pixel_position_reciprocal)\n",
    "    f.create_dataset('pixel_distance_reciprocal', data=det.pixel_distance_reciprocal)\n",
    "    f.create_dataset('pixel_index_map', data=det.pixel_index_map)\n",
    "print(\"data wrote to: \\n\", h5_fpath)"
   ]
  }
 ],
 "metadata": {
  "kernelspec": {
   "display_name": "Python 3",
   "language": "python",
   "name": "python3"
  },
  "language_info": {
   "codemirror_mode": {
    "name": "ipython",
    "version": 3
   },
   "file_extension": ".py",
   "mimetype": "text/x-python",
   "name": "python",
   "nbconvert_exporter": "python",
   "pygments_lexer": "ipython3",
   "version": "3.9.17"
  },
  "orig_nbformat": 4
 },
 "nbformat": 4,
 "nbformat_minor": 2
}
